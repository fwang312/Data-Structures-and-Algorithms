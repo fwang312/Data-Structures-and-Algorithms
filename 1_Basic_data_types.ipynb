{
  "nbformat": 4,
  "nbformat_minor": 0,
  "metadata": {
    "colab": {
      "name": "1.Basic data types.ipynb",
      "provenance": [],
      "authorship_tag": "ABX9TyPvaSn5ppQpBOj6GNXhEZbn",
      "include_colab_link": true
    },
    "kernelspec": {
      "name": "python3",
      "display_name": "Python 3"
    }
  },
  "cells": [
    {
      "cell_type": "markdown",
      "metadata": {
        "id": "view-in-github",
        "colab_type": "text"
      },
      "source": [
        "<a href=\"https://colab.research.google.com/github/fwang312/Data-Structures-and-Algorithms/blob/master/1_Basic_data_types.ipynb\" target=\"_parent\"><img src=\"https://colab.research.google.com/assets/colab-badge.svg\" alt=\"Open In Colab\"/></a>"
      ]
    },
    {
      "cell_type": "markdown",
      "metadata": {
        "id": "NAWIFHn39Juw",
        "colab_type": "text"
      },
      "source": [
        "## Number"
      ]
    },
    {
      "cell_type": "markdown",
      "metadata": {
        "id": "Veeh3QIOAI9-",
        "colab_type": "text"
      },
      "source": [
        "### Print the data type"
      ]
    },
    {
      "cell_type": "code",
      "metadata": {
        "id": "PEJc_hvf8yqB",
        "colab_type": "code",
        "colab": {
          "base_uri": "https://localhost:8080/",
          "height": 34
        },
        "outputId": "bb2e9c29-2089-4800-bad0-2073b1622e75"
      },
      "source": [
        "a = 2\n",
        "print(type(a))"
      ],
      "execution_count": 1,
      "outputs": [
        {
          "output_type": "stream",
          "text": [
            "<class 'int'>\n"
          ],
          "name": "stdout"
        }
      ]
    },
    {
      "cell_type": "code",
      "metadata": {
        "id": "G1uv1c4DAS15",
        "colab_type": "code",
        "colab": {
          "base_uri": "https://localhost:8080/",
          "height": 34
        },
        "outputId": "0be712f4-84e4-4809-c55c-d3239de1ceb1"
      },
      "source": [
        "b = 2.5\n",
        "print(type(b))"
      ],
      "execution_count": 2,
      "outputs": [
        {
          "output_type": "stream",
          "text": [
            "<class 'float'>\n"
          ],
          "name": "stdout"
        }
      ]
    },
    {
      "cell_type": "markdown",
      "metadata": {
        "id": "wY4Gh_d6AkUu",
        "colab_type": "text"
      },
      "source": [
        "Basically, you are declaring two variables (named a and b) which will hold some numbers; variable a is an integer number <type 'int'> and variable b is a real number <type 'float'>."
      ]
    },
    {
      "cell_type": "markdown",
      "metadata": {
        "id": "LtK8opiiAxmg",
        "colab_type": "text"
      },
      "source": [
        "### Basic Operation"
      ]
    },
    {
      "cell_type": "code",
      "metadata": {
        "id": "ayXWHqhjAXTk",
        "colab_type": "code",
        "colab": {
          "base_uri": "https://localhost:8080/",
          "height": 34
        },
        "outputId": "b3eb22ff-4f9e-4e10-b329-e037e85a9f41"
      },
      "source": [
        "a = 2\n",
        "b = 2.5\n",
        "print(a+b)"
      ],
      "execution_count": 3,
      "outputs": [
        {
          "output_type": "stream",
          "text": [
            "4.5\n"
          ],
          "name": "stdout"
        }
      ]
    },
    {
      "cell_type": "code",
      "metadata": {
        "id": "e2T2hXnkAlHz",
        "colab_type": "code",
        "colab": {
          "base_uri": "https://localhost:8080/",
          "height": 34
        },
        "outputId": "fb5de588-7e9a-4687-bf57-fd4f9f805ffd"
      },
      "source": [
        "print((a+b)*2)"
      ],
      "execution_count": 4,
      "outputs": [
        {
          "output_type": "stream",
          "text": [
            "9.0\n"
          ],
          "name": "stdout"
        }
      ]
    },
    {
      "cell_type": "markdown",
      "metadata": {
        "id": "Gbwm20rQCpML",
        "colab_type": "text"
      },
      "source": [
        "### Challenge 1.1: Mathematical Calculations\n",
        "\n",
        "### Given a MathOp() function, try the following mathematical calculations and print the output:"
      ]
    },
    {
      "cell_type": "code",
      "metadata": {
        "id": "v9PWIR6uBKKc",
        "colab_type": "code",
        "colab": {
          "base_uri": "https://localhost:8080/",
          "height": 85
        },
        "outputId": "965d6df4-4bb8-425f-ba57-f11db0f6ad91"
      },
      "source": [
        "def MathOp():\n",
        "  classic_division=3/2\n",
        "  floor_division=3//2\n",
        "  modulus=3%2\n",
        "  power=3**2\n",
        "  return[classic_division, floor_division, modulus, power]\n",
        "\n",
        "[classic_division, floor_division, modulus, power] = MathOp()\n",
        "print(classic_division)\n",
        "print(floor_division)\n",
        "print(modulus)\n",
        "print(power)"
      ],
      "execution_count": 5,
      "outputs": [
        {
          "output_type": "stream",
          "text": [
            "1.5\n",
            "1\n",
            "1\n",
            "9\n"
          ],
          "name": "stdout"
        }
      ]
    },
    {
      "cell_type": "markdown",
      "metadata": {
        "id": "rU-tsFSsFwji",
        "colab_type": "text"
      },
      "source": [
        "* / Division: Divide the number on the left with the number on the right\n",
        "\n",
        "* // Floor_Divison：Divide and return the integer of the quotient.\n",
        "\n",
        "* % Modulus: Divide and return the integer of the remainder.\n",
        "\n",
        "* ** Exponentiation: Raise the first numher to the power of the second.\n",
        "\n",
        "\n"
      ]
    },
    {
      "cell_type": "markdown",
      "metadata": {
        "id": "d-0pUwP8IcBI",
        "colab_type": "text"
      },
      "source": [
        "### Challenge 1.2: Check Parity of a Number\n",
        "\n",
        "### Given a checkParity(n) function, write code to determine if a given number n is even or odd."
      ]
    },
    {
      "cell_type": "code",
      "metadata": {
        "id": "17eFuIRWC1Jd",
        "colab_type": "code",
        "colab": {
          "base_uri": "https://localhost:8080/",
          "height": 51
        },
        "outputId": "ab49afa8-9949-4b10-9c97-f69e3e8fdc5c"
      },
      "source": [
        "def checkParity(n):\n",
        "  result = (n%2)\n",
        "  return result\n",
        "\n",
        "print(\"Odd Parity\",checkParity(17))\n",
        "print('Even Parity',checkParity(16))"
      ],
      "execution_count": 6,
      "outputs": [
        {
          "output_type": "stream",
          "text": [
            "Odd Parity 1\n",
            "Even Parity 0\n"
          ],
          "name": "stdout"
        }
      ]
    },
    {
      "cell_type": "markdown",
      "metadata": {
        "id": "MDyoXegzMHBl",
        "colab_type": "text"
      },
      "source": [
        "all even numbers result in a remainder of 0 and all odd numbers produce a remainder of 1. "
      ]
    },
    {
      "cell_type": "markdown",
      "metadata": {
        "id": "1P1a8od3M02U",
        "colab_type": "text"
      },
      "source": [
        "### Challenge 1.3: Find Values Within a Range\n",
        "\n",
        "### Given an inRange(x,y) function, write a method that determines whether a given pair (x, y) falls in the range (x < 1/3 < y). Essentially, you’ll be implementing the body of a function that takes in two numbers x and y and returns True if x < 1/3 < y; otherwise, it returns False."
      ]
    },
    {
      "cell_type": "code",
      "metadata": {
        "id": "JuT0ri37KKE0",
        "colab_type": "code",
        "colab": {
          "base_uri": "https://localhost:8080/",
          "height": 51
        },
        "outputId": "b29c0186-79cc-4220-eaf5-9d8f069d334d"
      },
      "source": [
        "def inRange(x,y):\n",
        "  return(x<1/3<y)\n",
        "\n",
        "print(inRange(-1,3))\n",
        "print(inRange(2,3))"
      ],
      "execution_count": 7,
      "outputs": [
        {
          "output_type": "stream",
          "text": [
            "True\n",
            "False\n"
          ],
          "name": "stdout"
        }
      ]
    },
    {
      "cell_type": "markdown",
      "metadata": {
        "id": "oRoeU2rbKikO",
        "colab_type": "text"
      },
      "source": [
        "## String"
      ]
    },
    {
      "cell_type": "markdown",
      "metadata": {
        "id": "rwYVt-zOKxij",
        "colab_type": "text"
      },
      "source": [
        "### Initial a string"
      ]
    },
    {
      "cell_type": "code",
      "metadata": {
        "id": "4x4G6mImJ4Lz",
        "colab_type": "code",
        "colab": {
          "base_uri": "https://localhost:8080/",
          "height": 34
        },
        "outputId": "1d918cae-aa42-47e6-e639-839bde5dac05"
      },
      "source": [
        "# Double Quote\n",
        "hi = \"hello\"\n",
        "print(hi)"
      ],
      "execution_count": 8,
      "outputs": [
        {
          "output_type": "stream",
          "text": [
            "hello\n"
          ],
          "name": "stdout"
        }
      ]
    },
    {
      "cell_type": "code",
      "metadata": {
        "id": "FUjhBIeYK3jB",
        "colab_type": "code",
        "colab": {
          "base_uri": "https://localhost:8080/",
          "height": 34
        },
        "outputId": "b1303ee6-77c1-4916-ea71-9a453c493c98"
      },
      "source": [
        "# Single Qutoe\n",
        "bye = 'Bye'\n",
        "print('bye')"
      ],
      "execution_count": 9,
      "outputs": [
        {
          "output_type": "stream",
          "text": [
            "bye\n"
          ],
          "name": "stdout"
        }
      ]
    },
    {
      "cell_type": "markdown",
      "metadata": {
        "id": "O3yVKBGRLIcp",
        "colab_type": "text"
      },
      "source": [
        "## String Concatenation"
      ]
    },
    {
      "cell_type": "code",
      "metadata": {
        "id": "Yngd8fnuLDpD",
        "colab_type": "code",
        "colab": {
          "base_uri": "https://localhost:8080/",
          "height": 34
        },
        "outputId": "43fab350-670f-4833-c654-7795967ec7e9"
      },
      "source": [
        "hi = 'Hello'\n",
        "hi += 'World'\n",
        "print(hi)"
      ],
      "execution_count": 10,
      "outputs": [
        {
          "output_type": "stream",
          "text": [
            "HelloWorld\n"
          ],
          "name": "stdout"
        }
      ]
    },
    {
      "cell_type": "markdown",
      "metadata": {
        "id": "QgkYSx5fLrCq",
        "colab_type": "text"
      },
      "source": [
        "But in this case they must have the same data types"
      ]
    },
    {
      "cell_type": "code",
      "metadata": {
        "id": "l-CUdGGJLiDt",
        "colab_type": "code",
        "colab": {
          "base_uri": "https://localhost:8080/",
          "height": 34
        },
        "outputId": "237bab89-0697-46f9-b415-9ec0d00166a3"
      },
      "source": [
        "print('Hello' * 3)"
      ],
      "execution_count": 11,
      "outputs": [
        {
          "output_type": "stream",
          "text": [
            "HelloHelloHello\n"
          ],
          "name": "stdout"
        }
      ]
    },
    {
      "cell_type": "markdown",
      "metadata": {
        "id": "_S4AsvZ6MfNe",
        "colab_type": "text"
      },
      "source": [
        "### Challenge 1.4: String Transformation\n",
        "\n",
        "### Given a getStr() function, write the necessary sequence of operations to transform the string (containing three literals) in such a way that every literal is tripled​ respectively."
      ]
    },
    {
      "cell_type": "code",
      "metadata": {
        "id": "gPpKxGG3L0vU",
        "colab_type": "code",
        "colab": {
          "base_uri": "https://localhost:8080/",
          "height": 34
        },
        "outputId": "46d33ec3-ece5-42c8-9aea-036c60461c88"
      },
      "source": [
        "def getStr(s):\n",
        "  s = s[:1] + s[0] + s[1:]\n",
        "  s = s[:1] + s[0] + s[1:]\n",
        "  s = s[:3] + s[3] + s[3:]\n",
        "  s = s[:3] + s[3] + s[3:]\n",
        "  s = s[:6] + s[6] + s[6:]\n",
        "\n",
        "  #Update the len of the stirngs\n",
        "  strlen = len(s)\n",
        "  return [s,strlen]\n",
        "\n",
        "print(getStr(\"okc\"))"
      ],
      "execution_count": 12,
      "outputs": [
        {
          "output_type": "stream",
          "text": [
            "['oookkkcc', 8]\n"
          ],
          "name": "stdout"
        }
      ]
    },
    {
      "cell_type": "code",
      "metadata": {
        "id": "eIoH4USETnCY",
        "colab_type": "code",
        "colab": {}
      },
      "source": [
        ""
      ],
      "execution_count": 0,
      "outputs": []
    }
  ]
}