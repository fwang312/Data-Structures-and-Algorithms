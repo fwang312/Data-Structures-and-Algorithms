{
  "nbformat": 4,
  "nbformat_minor": 0,
  "metadata": {
    "colab": {
      "name": "1.Basic data types.ipynb",
      "provenance": [],
      "authorship_tag": "ABX9TyOfjBigMNNvjuwG44OlAgeQ",
      "include_colab_link": true
    },
    "kernelspec": {
      "name": "python3",
      "display_name": "Python 3"
    }
  },
  "cells": [
    {
      "cell_type": "markdown",
      "metadata": {
        "id": "view-in-github",
        "colab_type": "text"
      },
      "source": [
        "<a href=\"https://colab.research.google.com/github/fwang312/Data-Structures-and-Algorithms/blob/master/1_Basic_data_types.ipynb\" target=\"_parent\"><img src=\"https://colab.research.google.com/assets/colab-badge.svg\" alt=\"Open In Colab\"/></a>"
      ]
    },
    {
      "cell_type": "markdown",
      "metadata": {
        "id": "NAWIFHn39Juw",
        "colab_type": "text"
      },
      "source": [
        "## Number"
      ]
    },
    {
      "cell_type": "markdown",
      "metadata": {
        "id": "Veeh3QIOAI9-",
        "colab_type": "text"
      },
      "source": [
        "### Print the data type"
      ]
    },
    {
      "cell_type": "code",
      "metadata": {
        "id": "PEJc_hvf8yqB",
        "colab_type": "code",
        "colab": {
          "base_uri": "https://localhost:8080/",
          "height": 34
        },
        "outputId": "816ec39f-be62-412f-ce3d-b0ec02ccf4cc"
      },
      "source": [
        "a = 2\n",
        "print(type(a))"
      ],
      "execution_count": 24,
      "outputs": [
        {
          "output_type": "stream",
          "text": [
            "<class 'int'>\n"
          ],
          "name": "stdout"
        }
      ]
    },
    {
      "cell_type": "code",
      "metadata": {
        "id": "G1uv1c4DAS15",
        "colab_type": "code",
        "colab": {
          "base_uri": "https://localhost:8080/",
          "height": 34
        },
        "outputId": "b903513e-cac7-4f13-e376-661a92453bee"
      },
      "source": [
        "b = 2.5\n",
        "print(type(b))"
      ],
      "execution_count": 25,
      "outputs": [
        {
          "output_type": "stream",
          "text": [
            "<class 'float'>\n"
          ],
          "name": "stdout"
        }
      ]
    },
    {
      "cell_type": "markdown",
      "metadata": {
        "id": "wY4Gh_d6AkUu",
        "colab_type": "text"
      },
      "source": [
        "Basically, you are declaring two variables (named a and b) which will hold some numbers; variable a is an integer number <type 'int'> and variable b is a real number <type 'float'>."
      ]
    },
    {
      "cell_type": "markdown",
      "metadata": {
        "id": "LtK8opiiAxmg",
        "colab_type": "text"
      },
      "source": [
        "### Basic Operation"
      ]
    },
    {
      "cell_type": "code",
      "metadata": {
        "id": "ayXWHqhjAXTk",
        "colab_type": "code",
        "colab": {
          "base_uri": "https://localhost:8080/",
          "height": 34
        },
        "outputId": "46532750-6b01-47a1-f061-68a6a4b2e4a0"
      },
      "source": [
        "a = 2\n",
        "b = 2.5\n",
        "print(a+b)"
      ],
      "execution_count": 26,
      "outputs": [
        {
          "output_type": "stream",
          "text": [
            "4.5\n"
          ],
          "name": "stdout"
        }
      ]
    },
    {
      "cell_type": "code",
      "metadata": {
        "id": "e2T2hXnkAlHz",
        "colab_type": "code",
        "colab": {
          "base_uri": "https://localhost:8080/",
          "height": 34
        },
        "outputId": "3ede4efe-95dc-408f-9920-887853439072"
      },
      "source": [
        "print((a+b)*2)"
      ],
      "execution_count": 27,
      "outputs": [
        {
          "output_type": "stream",
          "text": [
            "9.0\n"
          ],
          "name": "stdout"
        }
      ]
    },
    {
      "cell_type": "markdown",
      "metadata": {
        "id": "Gbwm20rQCpML",
        "colab_type": "text"
      },
      "source": [
        "### Challenge 1.1: Mathematical Calculations\n",
        "\n",
        "### Given a MathOp() function, try the following mathematical calculations and print the output:"
      ]
    },
    {
      "cell_type": "code",
      "metadata": {
        "id": "v9PWIR6uBKKc",
        "colab_type": "code",
        "colab": {
          "base_uri": "https://localhost:8080/",
          "height": 85
        },
        "outputId": "43a46a0f-aff6-469c-ab5a-a213340ce392"
      },
      "source": [
        "def MathOp():\n",
        "  classic_division=3/2\n",
        "  floor_division=3//2\n",
        "  modulus=3%2\n",
        "  power=3**2\n",
        "  return[classic_division, floor_division, modulus, power]\n",
        "\n",
        "[classic_division, floor_division, modulus, power] = MathOp()\n",
        "print(classic_division)\n",
        "print(floor_division)\n",
        "print(modulus)\n",
        "print(power)"
      ],
      "execution_count": 28,
      "outputs": [
        {
          "output_type": "stream",
          "text": [
            "1.5\n",
            "1\n",
            "1\n",
            "9\n"
          ],
          "name": "stdout"
        }
      ]
    },
    {
      "cell_type": "markdown",
      "metadata": {
        "id": "rU-tsFSsFwji",
        "colab_type": "text"
      },
      "source": [
        "* / Division: Divide the number on the left with the number on the right\n",
        "\n",
        "* // Floor_Divison：Divide and return the integer of the quotient.\n",
        "\n",
        "* % Modulus: Divide and return the integer of the remainder.\n",
        "\n",
        "* ** Exponentiation: Raise the first numher to the power of the second.\n",
        "\n",
        "\n"
      ]
    },
    {
      "cell_type": "markdown",
      "metadata": {
        "id": "d-0pUwP8IcBI",
        "colab_type": "text"
      },
      "source": [
        "### Challenge 1.2: Check Parity of a Number\n",
        "\n",
        "### Given a checkParity(n) function, write code to determine if a given number n is even or odd."
      ]
    },
    {
      "cell_type": "code",
      "metadata": {
        "id": "17eFuIRWC1Jd",
        "colab_type": "code",
        "colab": {
          "base_uri": "https://localhost:8080/",
          "height": 51
        },
        "outputId": "d772cf0d-34b3-40a6-f8d2-ff63ce3ed873"
      },
      "source": [
        "def checkParity(n):\n",
        "  result = (n%2)\n",
        "  return result\n",
        "\n",
        "print(\"Odd Parity\",checkParity(17))\n",
        "print('Even Parity',checkParity(16))"
      ],
      "execution_count": 29,
      "outputs": [
        {
          "output_type": "stream",
          "text": [
            "Odd Parity 1\n",
            "Even Parity 0\n"
          ],
          "name": "stdout"
        }
      ]
    },
    {
      "cell_type": "markdown",
      "metadata": {
        "id": "MDyoXegzMHBl",
        "colab_type": "text"
      },
      "source": [
        "all even numbers result in a remainder of 0 and all odd numbers produce a remainder of 1. "
      ]
    },
    {
      "cell_type": "markdown",
      "metadata": {
        "id": "1P1a8od3M02U",
        "colab_type": "text"
      },
      "source": [
        "### Challenge 1.3: Find Values Within a Range\n",
        "\n",
        "### Given an inRange(x,y) function, write a method that determines whether a given pair (x, y) falls in the range (x < 1/3 < y). Essentially, you’ll be implementing the body of a function that takes in two numbers x and y and returns True if x < 1/3 < y; otherwise, it returns False."
      ]
    },
    {
      "cell_type": "code",
      "metadata": {
        "id": "JuT0ri37KKE0",
        "colab_type": "code",
        "colab": {}
      },
      "source": [
        ""
      ],
      "execution_count": 0,
      "outputs": []
    }
  ]
}