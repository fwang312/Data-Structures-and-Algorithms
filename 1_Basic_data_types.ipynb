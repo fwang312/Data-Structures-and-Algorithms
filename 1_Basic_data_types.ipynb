{
  "nbformat": 4,
  "nbformat_minor": 0,
  "metadata": {
    "colab": {
      "name": "1.Basic data types.ipynb",
      "provenance": [],
      "authorship_tag": "ABX9TyNvWb3O3dxiCmATDDEo8pco",
      "include_colab_link": true
    },
    "kernelspec": {
      "name": "python3",
      "display_name": "Python 3"
    }
  },
  "cells": [
    {
      "cell_type": "markdown",
      "metadata": {
        "id": "view-in-github",
        "colab_type": "text"
      },
      "source": [
        "<a href=\"https://colab.research.google.com/github/fwang312/Data-Structures-and-Algorithms/blob/master/1_Basic_data_types.ipynb\" target=\"_parent\"><img src=\"https://colab.research.google.com/assets/colab-badge.svg\" alt=\"Open In Colab\"/></a>"
      ]
    },
    {
      "cell_type": "markdown",
      "metadata": {
        "id": "NAWIFHn39Juw",
        "colab_type": "text"
      },
      "source": [
        "## Number"
      ]
    },
    {
      "cell_type": "markdown",
      "metadata": {
        "id": "Veeh3QIOAI9-",
        "colab_type": "text"
      },
      "source": [
        "### Print the data type"
      ]
    },
    {
      "cell_type": "code",
      "metadata": {
        "id": "PEJc_hvf8yqB",
        "colab_type": "code",
        "colab": {
          "base_uri": "https://localhost:8080/",
          "height": 34
        },
        "outputId": "1e5b06a2-8679-4afc-a8be-c7ec09cdb4a2"
      },
      "source": [
        "a = 2\n",
        "print(type(a))"
      ],
      "execution_count": 14,
      "outputs": [
        {
          "output_type": "stream",
          "text": [
            "<class 'int'>\n"
          ],
          "name": "stdout"
        }
      ]
    },
    {
      "cell_type": "code",
      "metadata": {
        "id": "G1uv1c4DAS15",
        "colab_type": "code",
        "colab": {
          "base_uri": "https://localhost:8080/",
          "height": 34
        },
        "outputId": "5a1e36b4-e3f7-48af-bfbc-1285e2022a77"
      },
      "source": [
        "b = 2.5\n",
        "print(type(b))"
      ],
      "execution_count": 15,
      "outputs": [
        {
          "output_type": "stream",
          "text": [
            "<class 'float'>\n"
          ],
          "name": "stdout"
        }
      ]
    },
    {
      "cell_type": "markdown",
      "metadata": {
        "id": "wY4Gh_d6AkUu",
        "colab_type": "text"
      },
      "source": [
        "Basically, you are declaring two variables (named a and b) which will hold some numbers; variable a is an integer number <type 'int'> and variable b is a real number <type 'float'>."
      ]
    },
    {
      "cell_type": "markdown",
      "metadata": {
        "id": "LtK8opiiAxmg",
        "colab_type": "text"
      },
      "source": [
        "### Basic Operation"
      ]
    },
    {
      "cell_type": "code",
      "metadata": {
        "id": "ayXWHqhjAXTk",
        "colab_type": "code",
        "colab": {
          "base_uri": "https://localhost:8080/",
          "height": 34
        },
        "outputId": "84bc5e58-5798-47ba-92da-267682655db5"
      },
      "source": [
        "a = 2\n",
        "b = 2.5\n",
        "print(a+b)"
      ],
      "execution_count": 8,
      "outputs": [
        {
          "output_type": "stream",
          "text": [
            "4.5\n"
          ],
          "name": "stdout"
        }
      ]
    },
    {
      "cell_type": "code",
      "metadata": {
        "id": "e2T2hXnkAlHz",
        "colab_type": "code",
        "colab": {
          "base_uri": "https://localhost:8080/",
          "height": 34
        },
        "outputId": "75080be4-18b1-44ad-f943-b8763ff257e9"
      },
      "source": [
        "print((a+b)*2)"
      ],
      "execution_count": 17,
      "outputs": [
        {
          "output_type": "stream",
          "text": [
            "9.0\n"
          ],
          "name": "stdout"
        }
      ]
    },
    {
      "cell_type": "markdown",
      "metadata": {
        "id": "Gbwm20rQCpML",
        "colab_type": "text"
      },
      "source": [
        "### Challenge 1.1: Mathematical Calculations\n",
        "\n",
        "### Given a MathOp() function, try the following mathematical calculations and print the output:"
      ]
    },
    {
      "cell_type": "code",
      "metadata": {
        "id": "v9PWIR6uBKKc",
        "colab_type": "code",
        "colab": {
          "base_uri": "https://localhost:8080/",
          "height": 85
        },
        "outputId": "67043c15-8f8f-42dd-efcc-8a037cdadafb"
      },
      "source": [
        "print(3/2)\n",
        "print(3//2)\n",
        "print(3%2)\n",
        "print(3**2)"
      ],
      "execution_count": 19,
      "outputs": [
        {
          "output_type": "stream",
          "text": [
            "1.5\n",
            "1\n",
            "1\n",
            "9\n"
          ],
          "name": "stdout"
        }
      ]
    },
    {
      "cell_type": "code",
      "metadata": {
        "id": "17eFuIRWC1Jd",
        "colab_type": "code",
        "colab": {}
      },
      "source": [
        ""
      ],
      "execution_count": 0,
      "outputs": []
    }
  ]
}